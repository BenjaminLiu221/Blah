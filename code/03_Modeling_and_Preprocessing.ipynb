{
 "cells": [
  {
   "cell_type": "markdown",
   "metadata": {},
   "source": [
    "## **Modeling and Preprocessing**"
   ]
  },
  {
   "cell_type": "markdown",
   "metadata": {},
   "source": [
    "### **Import Library**"
   ]
  },
  {
   "cell_type": "code",
   "execution_count": 1,
   "metadata": {},
   "outputs": [],
   "source": [
    "import pandas as pd\n",
    "import numpy as np\n",
    "import time\n",
    "from datetime import timedelta\n",
    "from sklearn.model_selection import train_test_split, GridSearchCV\n",
    "from sklearn.linear_model import LogisticRegression\n",
    "from sklearn.metrics import confusion_matrix\n",
    "from sklearn.feature_extraction.text import CountVectorizer, TfidfVectorizer\n",
    "from sklearn.feature_extraction import stop_words\n",
    "import matplotlib.pyplot as plt\n",
    "import warnings\n",
    "warnings.filterwarnings('ignore')\n",
    "\n",
    "np.random.seed(42)\n",
    "%matplotlib inline"
   ]
  },
  {
   "cell_type": "markdown",
   "metadata": {},
   "source": [
    "### **Import Data**"
   ]
  },
  {
   "cell_type": "code",
   "execution_count": 2,
   "metadata": {},
   "outputs": [],
   "source": [
    "df = pd.read_csv('../data/clean_df.csv', \n",
    "                  engine='python'\n",
    "                )"
   ]
  },
  {
   "cell_type": "code",
   "execution_count": 3,
   "metadata": {},
   "outputs": [],
   "source": [
    "df.drop(columns='Unnamed: 0', inplace=True)"
   ]
  },
  {
   "cell_type": "code",
   "execution_count": 4,
   "metadata": {},
   "outputs": [
    {
     "data": {
      "text/html": [
       "<div>\n",
       "<style scoped>\n",
       "    .dataframe tbody tr th:only-of-type {\n",
       "        vertical-align: middle;\n",
       "    }\n",
       "\n",
       "    .dataframe tbody tr th {\n",
       "        vertical-align: top;\n",
       "    }\n",
       "\n",
       "    .dataframe thead th {\n",
       "        text-align: right;\n",
       "    }\n",
       "</style>\n",
       "<table border=\"1\" class=\"dataframe\">\n",
       "  <thead>\n",
       "    <tr style=\"text-align: right;\">\n",
       "      <th></th>\n",
       "      <th>subreddit</th>\n",
       "      <th>year</th>\n",
       "      <th>text</th>\n",
       "      <th>tokenized</th>\n",
       "      <th>lemmatized</th>\n",
       "      <th>clean_text</th>\n",
       "    </tr>\n",
       "  </thead>\n",
       "  <tbody>\n",
       "    <tr>\n",
       "      <th>0</th>\n",
       "      <td>1</td>\n",
       "      <td>2019</td>\n",
       "      <td>how to find the best offers and deals on lapda...</td>\n",
       "      <td>['how', 'to', 'find', 'the', 'best', 'offers',...</td>\n",
       "      <td>['how', 'to', 'find', 'the', 'best', 'offer', ...</td>\n",
       "      <td>best offer deal lapdance shoe amp lingerie dea...</td>\n",
       "    </tr>\n",
       "    <tr>\n",
       "      <th>1</th>\n",
       "      <td>1</td>\n",
       "      <td>2019</td>\n",
       "      <td>columbia fleece various colors and sizes shipp...</td>\n",
       "      <td>['columbia', 'fleece', 'various', 'colors', 'a...</td>\n",
       "      <td>['columbia', 'fleece', 'various', 'color', 'an...</td>\n",
       "      <td>columbia fleece various color size shipping in...</td>\n",
       "    </tr>\n",
       "    <tr>\n",
       "      <th>2</th>\n",
       "      <td>1</td>\n",
       "      <td>2019</td>\n",
       "      <td>pacsun vans old skool sizes free shipping</td>\n",
       "      <td>['pacsun', 'vans', 'old', 'skool', 'sizes', 'f...</td>\n",
       "      <td>['pacsun', 'van', 'old', 'skool', 'size', 'fre...</td>\n",
       "      <td>pacsun van old skool size free shipping</td>\n",
       "    </tr>\n",
       "    <tr>\n",
       "      <th>3</th>\n",
       "      <td>1</td>\n",
       "      <td>2019</td>\n",
       "      <td>massive toadampco sale some items off noooo id...</td>\n",
       "      <td>['massive', 'toadampco', 'sale', 'some', 'item...</td>\n",
       "      <td>['massive', 'toadampco', 'sale', 'some', 'item...</td>\n",
       "      <td>massive toadampco sale item off noooo idea err...</td>\n",
       "    </tr>\n",
       "    <tr>\n",
       "      <th>4</th>\n",
       "      <td>1</td>\n",
       "      <td>2018</td>\n",
       "      <td>chup socks for with code more</td>\n",
       "      <td>['chup', 'socks', 'for', 'with', 'code', 'more']</td>\n",
       "      <td>['chup', 'sock', 'for', 'with', 'code', 'more']</td>\n",
       "      <td>chup sock code</td>\n",
       "    </tr>\n",
       "  </tbody>\n",
       "</table>\n",
       "</div>"
      ],
      "text/plain": [
       "   subreddit  year                                               text  \\\n",
       "0          1  2019  how to find the best offers and deals on lapda...   \n",
       "1          1  2019  columbia fleece various colors and sizes shipp...   \n",
       "2          1  2019          pacsun vans old skool sizes free shipping   \n",
       "3          1  2019  massive toadampco sale some items off noooo id...   \n",
       "4          1  2018                      chup socks for with code more   \n",
       "\n",
       "                                           tokenized  \\\n",
       "0  ['how', 'to', 'find', 'the', 'best', 'offers',...   \n",
       "1  ['columbia', 'fleece', 'various', 'colors', 'a...   \n",
       "2  ['pacsun', 'vans', 'old', 'skool', 'sizes', 'f...   \n",
       "3  ['massive', 'toadampco', 'sale', 'some', 'item...   \n",
       "4   ['chup', 'socks', 'for', 'with', 'code', 'more']   \n",
       "\n",
       "                                          lemmatized  \\\n",
       "0  ['how', 'to', 'find', 'the', 'best', 'offer', ...   \n",
       "1  ['columbia', 'fleece', 'various', 'color', 'an...   \n",
       "2  ['pacsun', 'van', 'old', 'skool', 'size', 'fre...   \n",
       "3  ['massive', 'toadampco', 'sale', 'some', 'item...   \n",
       "4    ['chup', 'sock', 'for', 'with', 'code', 'more']   \n",
       "\n",
       "                                          clean_text  \n",
       "0  best offer deal lapdance shoe amp lingerie dea...  \n",
       "1  columbia fleece various color size shipping in...  \n",
       "2            pacsun van old skool size free shipping  \n",
       "3  massive toadampco sale item off noooo idea err...  \n",
       "4                                     chup sock code  "
      ]
     },
     "execution_count": 4,
     "metadata": {},
     "output_type": "execute_result"
    }
   ],
   "source": [
    "df.head()"
   ]
  },
  {
   "cell_type": "markdown",
   "metadata": {},
   "source": [
    "### **Preprocessing**"
   ]
  },
  {
   "cell_type": "markdown",
   "metadata": {},
   "source": [
    "We will assign the `lemmatized` text to X and `fmf` class to y. Then we will split the data into train and test sets before performing TF-IDF vectorizing so that the frequency isn't influenced by the random split of data before inputting the data into our model."
   ]
  },
  {
   "cell_type": "code",
   "execution_count": 5,
   "metadata": {},
   "outputs": [],
   "source": [
    "X = df[['clean_text']]\n",
    "y = df['subreddit']"
   ]
  },
  {
   "cell_type": "code",
   "execution_count": 6,
   "metadata": {},
   "outputs": [],
   "source": [
    "X_train, X_test, y_train, y_test = train_test_split(X, \n",
    "                                                    y, \n",
    "                                                    stratify=y, \n",
    "                                                    random_state=42)"
   ]
  },
  {
   "cell_type": "markdown",
   "metadata": {},
   "source": [
    "#### **TF-IDF**"
   ]
  },
  {
   "cell_type": "markdown",
   "metadata": {},
   "source": [
    "We will use TF-IDF to affect how the weights of terms are distributed. Terms that occur very frequently across all documents will have their weights penalized and terms that occur very infrequently will have their weights increased."
   ]
  },
  {
   "cell_type": "markdown",
   "metadata": {},
   "source": [
    "Instantiate TF-IDF():\n",
    "- **min_df=.03**: terms with a frequency of lower than 3% across all documents will be removed as these terms that occur so rarely will not contribute signal to our model.\n",
    "- **max_df=.95**: terms with a frequency of greater than 95% across all documents will be removed as these terms are most likely in both subreddits and will not contribute signal to our model."
   ]
  },
  {
   "cell_type": "markdown",
   "metadata": {},
   "source": [
    "#### **Vectorize X_train and X_test**"
   ]
  },
  {
   "cell_type": "markdown",
   "metadata": {},
   "source": [
    "#### X_train"
   ]
  },
  {
   "cell_type": "code",
   "execution_count": 7,
   "metadata": {},
   "outputs": [],
   "source": [
    "tfidf = TfidfVectorizer(min_df=.03, max_df=.95)\n",
    "X_train_tfidf = tfidf.fit_transform(X_train['clean_text'])\n",
    "X_train_tfidf = pd.DataFrame(X_train_tfidf.toarray(), columns=tfidf.get_feature_names())"
   ]
  },
  {
   "cell_type": "markdown",
   "metadata": {},
   "source": [
    "#### X_test"
   ]
  },
  {
   "cell_type": "code",
   "execution_count": 8,
   "metadata": {},
   "outputs": [],
   "source": [
    "X_test_tfidf = tfidf.transform(X_test['clean_text'])\n",
    "X_test_tfidf = pd.DataFrame(X_test_tfidf.toarray(), columns=tfidf.get_feature_names())"
   ]
  },
  {
   "cell_type": "markdown",
   "metadata": {},
   "source": [
    "### **Modeling**"
   ]
  },
  {
   "cell_type": "markdown",
   "metadata": {},
   "source": [
    "#### **Baseline Model**"
   ]
  },
  {
   "cell_type": "code",
   "execution_count": 9,
   "metadata": {},
   "outputs": [
    {
     "data": {
      "text/plain": [
       "0    0.539241\n",
       "1    0.460759\n",
       "Name: subreddit, dtype: float64"
      ]
     },
     "execution_count": 9,
     "metadata": {},
     "output_type": "execute_result"
    }
   ],
   "source": [
    "y.value_counts(normalize=True)"
   ]
  },
  {
   "cell_type": "markdown",
   "metadata": {},
   "source": [
    "`r/sneakers` is our majority class. If we classify all posts as belonging in the `r/sneakers` subreddit, we will be predicting correctly 53.92% of the time."
   ]
  },
  {
   "cell_type": "markdown",
   "metadata": {},
   "source": [
    "#### **Logistic Regression**"
   ]
  },
  {
   "cell_type": "markdown",
   "metadata": {},
   "source": [
    "Instantiate LogisticRegression() and perform Grid Search to find the most optimal hyperparameters:\n",
    "\n",
    "- **Penalty:** `l1` (lasso) or `l2` (ridge) regularization\n",
    "- **C:** Inverse of regularization strength"
   ]
  },
  {
   "cell_type": "code",
   "execution_count": 10,
   "metadata": {},
   "outputs": [
    {
     "data": {
      "text/plain": [
       "GridSearchCV(cv='warn', error_score='raise-deprecating',\n",
       "       estimator=LogisticRegression(C=1.0, class_weight=None, dual=False, fit_intercept=True,\n",
       "          intercept_scaling=1, max_iter=100, multi_class='warn',\n",
       "          n_jobs=None, penalty='l2', random_state=None, solver='warn',\n",
       "          tol=0.0001, verbose=0, warm_start=False),\n",
       "       fit_params=None, iid='warn', n_jobs=None,\n",
       "       param_grid={'penalty': ['l1', 'l2'], 'C': [0.01, 0.1, 1, 10]},\n",
       "       pre_dispatch='2*n_jobs', refit=True, return_train_score='warn',\n",
       "       scoring=None, verbose=0)"
      ]
     },
     "execution_count": 10,
     "metadata": {},
     "output_type": "execute_result"
    }
   ],
   "source": [
    "params_logr = {'penalty':['l1','l2'],\n",
    "                'C': [0.01, 0.1, 1, 10]}\n",
    "\n",
    "gs_logr = GridSearchCV(LogisticRegression(), \n",
    "                        param_grid=params_logr)\n",
    "gs_logr.fit(X_train_tfidf, y_train)"
   ]
  },
  {
   "cell_type": "markdown",
   "metadata": {},
   "source": [
    "#### Best Gridsearched Params"
   ]
  },
  {
   "cell_type": "code",
   "execution_count": 11,
   "metadata": {},
   "outputs": [
    {
     "data": {
      "text/plain": [
       "{'C': 1, 'penalty': 'l2'}"
      ]
     },
     "execution_count": 11,
     "metadata": {},
     "output_type": "execute_result"
    }
   ],
   "source": [
    "gs_logr.best_params_"
   ]
  },
  {
   "cell_type": "markdown",
   "metadata": {},
   "source": [
    "#### Accuracy Scores"
   ]
  },
  {
   "cell_type": "code",
   "execution_count": 12,
   "metadata": {},
   "outputs": [
    {
     "data": {
      "text/plain": [
       "0.789272819408374"
      ]
     },
     "execution_count": 12,
     "metadata": {},
     "output_type": "execute_result"
    }
   ],
   "source": [
    "gs_logr.score(X_train_tfidf, y_train)"
   ]
  },
  {
   "cell_type": "code",
   "execution_count": 13,
   "metadata": {},
   "outputs": [
    {
     "data": {
      "text/plain": [
       "0.7876959619952494"
      ]
     },
     "execution_count": 13,
     "metadata": {},
     "output_type": "execute_result"
    }
   ],
   "source": [
    "gs_logr.score(X_test_tfidf, y_test)"
   ]
  },
  {
   "cell_type": "markdown",
   "metadata": {},
   "source": [
    "The accuracy score for the training set is slightly higher than compared to the accuracy score for the test set indicating slight overfitting."
   ]
  },
  {
   "cell_type": "markdown",
   "metadata": {},
   "source": [
    "#### Visualization of Features"
   ]
  },
  {
   "cell_type": "markdown",
   "metadata": {},
   "source": [
    "Create a dataframe of the most important features and their exponential log weights of odds from our model. Assign the word to the respective weights."
   ]
  },
  {
   "cell_type": "code",
   "execution_count": 14,
   "metadata": {},
   "outputs": [],
   "source": [
    "features = pd.DataFrame(np.exp(gs_logr.best_estimator_.coef_), columns=X_train_tfidf.columns).T"
   ]
  },
  {
   "cell_type": "code",
   "execution_count": 15,
   "metadata": {},
   "outputs": [],
   "source": [
    "features.columns = ['odds']"
   ]
  },
  {
   "cell_type": "markdown",
   "metadata": {},
   "source": [
    "The top 10 features of our model with the greatest odds."
   ]
  },
  {
   "cell_type": "code",
   "execution_count": 16,
   "metadata": {},
   "outputs": [
    {
     "data": {
      "text/html": [
       "<div>\n",
       "<style scoped>\n",
       "    .dataframe tbody tr th:only-of-type {\n",
       "        vertical-align: middle;\n",
       "    }\n",
       "\n",
       "    .dataframe tbody tr th {\n",
       "        vertical-align: top;\n",
       "    }\n",
       "\n",
       "    .dataframe thead th {\n",
       "        text-align: right;\n",
       "    }\n",
       "</style>\n",
       "<table border=\"1\" class=\"dataframe\">\n",
       "  <thead>\n",
       "    <tr style=\"text-align: right;\">\n",
       "      <th></th>\n",
       "      <th>odds</th>\n",
       "    </tr>\n",
       "  </thead>\n",
       "  <tbody>\n",
       "    <tr>\n",
       "      <th>sale</th>\n",
       "      <td>103.550928</td>\n",
       "    </tr>\n",
       "    <tr>\n",
       "      <th>code</th>\n",
       "      <td>91.217825</td>\n",
       "    </tr>\n",
       "    <tr>\n",
       "      <th>item</th>\n",
       "      <td>84.621235</td>\n",
       "    </tr>\n",
       "    <tr>\n",
       "      <th>free</th>\n",
       "      <td>39.509298</td>\n",
       "    </tr>\n",
       "    <tr>\n",
       "      <th>off</th>\n",
       "      <td>14.135473</td>\n",
       "    </tr>\n",
       "    <tr>\n",
       "      <th>shipping</th>\n",
       "      <td>11.628264</td>\n",
       "    </tr>\n",
       "    <tr>\n",
       "      <th>price</th>\n",
       "      <td>5.741240</td>\n",
       "    </tr>\n",
       "    <tr>\n",
       "      <th>size</th>\n",
       "      <td>4.043251</td>\n",
       "    </tr>\n",
       "    <tr>\n",
       "      <th>new</th>\n",
       "      <td>0.983314</td>\n",
       "    </tr>\n",
       "    <tr>\n",
       "      <th>day</th>\n",
       "      <td>0.755850</td>\n",
       "    </tr>\n",
       "  </tbody>\n",
       "</table>\n",
       "</div>"
      ],
      "text/plain": [
       "                odds\n",
       "sale      103.550928\n",
       "code       91.217825\n",
       "item       84.621235\n",
       "free       39.509298\n",
       "off        14.135473\n",
       "shipping   11.628264\n",
       "price       5.741240\n",
       "size        4.043251\n",
       "new         0.983314\n",
       "day         0.755850"
      ]
     },
     "execution_count": 16,
     "metadata": {},
     "output_type": "execute_result"
    }
   ],
   "source": [
    "features.sort_values(by='odds', ascending=False)[['odds']].head(10)"
   ]
  },
  {
   "cell_type": "markdown",
   "metadata": {},
   "source": [
    "The top 10 features of our model with the lowest odds."
   ]
  },
  {
   "cell_type": "code",
   "execution_count": 17,
   "metadata": {},
   "outputs": [
    {
     "data": {
      "text/html": [
       "<div>\n",
       "<style scoped>\n",
       "    .dataframe tbody tr th:only-of-type {\n",
       "        vertical-align: middle;\n",
       "    }\n",
       "\n",
       "    .dataframe tbody tr th {\n",
       "        vertical-align: top;\n",
       "    }\n",
       "\n",
       "    .dataframe thead th {\n",
       "        text-align: right;\n",
       "    }\n",
       "</style>\n",
       "<table border=\"1\" class=\"dataframe\">\n",
       "  <thead>\n",
       "    <tr style=\"text-align: right;\">\n",
       "      <th></th>\n",
       "      <th>odds</th>\n",
       "    </tr>\n",
       "  </thead>\n",
       "  <tbody>\n",
       "    <tr>\n",
       "      <th>nike</th>\n",
       "      <td>0.217118</td>\n",
       "    </tr>\n",
       "    <tr>\n",
       "      <th>sneaker</th>\n",
       "      <td>0.218174</td>\n",
       "    </tr>\n",
       "    <tr>\n",
       "      <th>got</th>\n",
       "      <td>0.333686</td>\n",
       "    </tr>\n",
       "    <tr>\n",
       "      <th>pair</th>\n",
       "      <td>0.397318</td>\n",
       "    </tr>\n",
       "    <tr>\n",
       "      <th>shoe</th>\n",
       "      <td>0.636346</td>\n",
       "    </tr>\n",
       "    <tr>\n",
       "      <th>day</th>\n",
       "      <td>0.755850</td>\n",
       "    </tr>\n",
       "    <tr>\n",
       "      <th>new</th>\n",
       "      <td>0.983314</td>\n",
       "    </tr>\n",
       "    <tr>\n",
       "      <th>size</th>\n",
       "      <td>4.043251</td>\n",
       "    </tr>\n",
       "    <tr>\n",
       "      <th>price</th>\n",
       "      <td>5.741240</td>\n",
       "    </tr>\n",
       "    <tr>\n",
       "      <th>shipping</th>\n",
       "      <td>11.628264</td>\n",
       "    </tr>\n",
       "  </tbody>\n",
       "</table>\n",
       "</div>"
      ],
      "text/plain": [
       "               odds\n",
       "nike       0.217118\n",
       "sneaker    0.218174\n",
       "got        0.333686\n",
       "pair       0.397318\n",
       "shoe       0.636346\n",
       "day        0.755850\n",
       "new        0.983314\n",
       "size       4.043251\n",
       "price      5.741240\n",
       "shipping  11.628264"
      ]
     },
     "execution_count": 17,
     "metadata": {},
     "output_type": "execute_result"
    }
   ],
   "source": [
    "features.sort_values(by='odds', ascending=True)[['odds']].head(10)"
   ]
  },
  {
   "cell_type": "markdown",
   "metadata": {},
   "source": [
    "We will visualize the most important words from our model."
   ]
  },
  {
   "cell_type": "code",
   "execution_count": 18,
   "metadata": {},
   "outputs": [
    {
     "data": {
      "image/png": "[encoded data removed]",
      "text/plain": [
       "<Figure size 1440x720 with 1 Axes>"
      ]
     },
     "metadata": {
      "needs_background": "light"
     },
     "output_type": "display_data"
    }
   ],
   "source": [
    "plt.figure(figsize=(20, 10))\n",
    "plt.barh(y = features.sort_values(by='odds', ascending=False)['odds'].head(10).index,\n",
    "         width= features.sort_values(by='odds', ascending=False)['odds'].head(10).values,\n",
    "         log=True)\n",
    "plt.title(f'Words of the Greatest Odds', fontsize=30)\n",
    "plt.yticks(fontsize=15)\n",
    "plt.xticks(fontsize=15)\n",
    "plt.xlabel('Odds', fontsize=20)\n",
    "plt.grid()"
   ]
  },
  {
   "cell_type": "markdown",
   "metadata": {},
   "source": [
    "Above are the words with the greatest odds from our model, meaning if a post contains any of these words, it will be more likely to be classified in `r/frugalmalefashion`."
   ]
  },
  {
   "cell_type": "markdown",
   "metadata": {},
   "source": [
    "`sale`, `code`, `item`, `free`, `off`, `shipping` have the greatest odds as those words occur the most frequently in `r/frugalmalefashion` because they represent the content of the community which is sharing deals, sales, discounts, coupons for items at stores or brands."
   ]
  },
  {
   "cell_type": "markdown",
   "metadata": {},
   "source": [
    "We will visualize the least important words from our model."
   ]
  },
  {
   "cell_type": "code",
   "execution_count": 19,
   "metadata": {},
   "outputs": [
    {
     "data": {
      "image/png": "[encoded data removed]",
      "text/plain": [
       "<Figure size 1440x720 with 1 Axes>"
      ]
     },
     "metadata": {
      "needs_background": "light"
     },
     "output_type": "display_data"
    }
   ],
   "source": [
    "plt.figure(figsize=(20, 10))\n",
    "plt.barh(y = features.sort_values(by='odds', ascending=False)['odds'].tail(10).index,\n",
    "         width= features.sort_values(by='odds', ascending=False)['odds'].tail(10).values,\n",
    "         log=True)\n",
    "plt.title(f'Words of the Lowest Odds', fontsize=30)\n",
    "plt.yticks(fontsize=15)\n",
    "plt.xticks(fontsize=15)\n",
    "plt.xlabel('Odds', fontsize=20)\n",
    "plt.grid()"
   ]
  },
  {
   "cell_type": "markdown",
   "metadata": {},
   "source": [
    "Above are the words with the lowest odds from our model, meaning if a post contains any of these words, it will be less likely to be classified in `r/frugalmalefashion`."
   ]
  },
  {
   "cell_type": "markdown",
   "metadata": {},
   "source": [
    "`nike`, `sneaker`, `pair`, `got` are words most frequently appeared in `r/sneakers` but are associated with sneaker culture, and displaying the acquisition of sneakers rather than sharing information about sales, discounts, coupons."
   ]
  },
  {
   "cell_type": "markdown",
   "metadata": {},
   "source": [
    "#### Model Evaluation"
   ]
  },
  {
   "cell_type": "markdown",
   "metadata": {},
   "source": [
    "We will evaluate our Logistic Regression model by analyzing the successful and failed predictions."
   ]
  },
  {
   "cell_type": "code",
   "execution_count": 20,
   "metadata": {},
   "outputs": [],
   "source": [
    "logr_pred = gs_logr.predict(X_test_tfidf)"
   ]
  },
  {
   "cell_type": "markdown",
   "metadata": {},
   "source": [
    "We will create a confusion matrix to visualize this."
   ]
  },
  {
   "cell_type": "code",
   "execution_count": 21,
   "metadata": {},
   "outputs": [
    {
     "data": {
      "text/html": [
       "<div>\n",
       "<style scoped>\n",
       "    .dataframe tbody tr th:only-of-type {\n",
       "        vertical-align: middle;\n",
       "    }\n",
       "\n",
       "    .dataframe tbody tr th {\n",
       "        vertical-align: top;\n",
       "    }\n",
       "\n",
       "    .dataframe thead th {\n",
       "        text-align: right;\n",
       "    }\n",
       "</style>\n",
       "<table border=\"1\" class=\"dataframe\">\n",
       "  <thead>\n",
       "    <tr style=\"text-align: right;\">\n",
       "      <th></th>\n",
       "      <th>Predicted Negative</th>\n",
       "      <th>Predicted Positive</th>\n",
       "    </tr>\n",
       "  </thead>\n",
       "  <tbody>\n",
       "    <tr>\n",
       "      <th>True Negative</th>\n",
       "      <td>10731</td>\n",
       "      <td>620</td>\n",
       "    </tr>\n",
       "    <tr>\n",
       "      <th>True Positive</th>\n",
       "      <td>3849</td>\n",
       "      <td>5850</td>\n",
       "    </tr>\n",
       "  </tbody>\n",
       "</table>\n",
       "</div>"
      ],
      "text/plain": [
       "               Predicted Negative  Predicted Positive\n",
       "True Negative               10731                 620\n",
       "True Positive                3849                5850"
      ]
     },
     "execution_count": 21,
     "metadata": {},
     "output_type": "execute_result"
    }
   ],
   "source": [
    "pd.DataFrame(confusion_matrix(y_true = y_test, y_pred = logr_pred),\n",
    "             index=['True Negative', 'True Positive'],\n",
    "             columns=['Predicted Negative', 'Predicted Positive'])"
   ]
  },
  {
   "cell_type": "markdown",
   "metadata": {},
   "source": [
    "- The model correctly predicted 10731 posts to be in `r/sneakers` (true negative).\n",
    "- The model correctly predicted 5850 posts to be in `r/frugalmalefashion` (true positive).\n",
    "- The model incorrectly predicted 630 posts to be in `r/frugalmalefashion` when they're actually found in `r/sneakers` (false positive).\n",
    "- The model incorrectly predicted 3849 posts to be in `r/sneakers` when they're actually found in `r/frugalmalefashion` (false negative)."
   ]
  },
  {
   "cell_type": "markdown",
   "metadata": {},
   "source": [
    "To understand why posts are correctly or incorrectly classified, we will need to view the original text of posts with high certainty as well as low certainty."
   ]
  },
  {
   "cell_type": "markdown",
   "metadata": {},
   "source": [
    "Here are the posts in which the model predicted correctly with great confidence."
   ]
  },
  {
   "cell_type": "code",
   "execution_count": 22,
   "metadata": {},
   "outputs": [
    {
     "data": {
      "text/html": [
       "<div>\n",
       "<style scoped>\n",
       "    .dataframe tbody tr th:only-of-type {\n",
       "        vertical-align: middle;\n",
       "    }\n",
       "\n",
       "    .dataframe tbody tr th {\n",
       "        vertical-align: top;\n",
       "    }\n",
       "\n",
       "    .dataframe thead th {\n",
       "        text-align: right;\n",
       "    }\n",
       "</style>\n",
       "<table border=\"1\" class=\"dataframe\">\n",
       "  <thead>\n",
       "    <tr style=\"text-align: right;\">\n",
       "      <th></th>\n",
       "      <th>clean_text</th>\n",
       "    </tr>\n",
       "  </thead>\n",
       "  <tbody>\n",
       "    <tr>\n",
       "      <th>24330</th>\n",
       "      <td>kent curwen sample sale gone came lunchtime tr...</td>\n",
       "    </tr>\n",
       "    <tr>\n",
       "      <th>22292</th>\n",
       "      <td>clockwork synergy lizard grain leather watch s...</td>\n",
       "    </tr>\n",
       "    <tr>\n",
       "      <th>13895</th>\n",
       "      <td>uniqlo free shipping oct</td>\n",
       "    </tr>\n",
       "    <tr>\n",
       "      <th>30700</th>\n",
       "      <td>champion s compression short amazon size color...</td>\n",
       "    </tr>\n",
       "    <tr>\n",
       "      <th>25519</th>\n",
       "      <td>bean onetime off code end today</td>\n",
       "    </tr>\n",
       "  </tbody>\n",
       "</table>\n",
       "</div>"
      ],
      "text/plain": [
       "                                              clean_text\n",
       "24330  kent curwen sample sale gone came lunchtime tr...\n",
       "22292  clockwork synergy lizard grain leather watch s...\n",
       "13895                           uniqlo free shipping oct\n",
       "30700  champion s compression short amazon size color...\n",
       "25519                    bean onetime off code end today"
      ]
     },
     "execution_count": 22,
     "metadata": {},
     "output_type": "execute_result"
    }
   ],
   "source": [
    "X_test[(gs_logr.predict_proba(X_test_tfidf)[:, 1] >= .9) & (y_test == 1)].head()"
   ]
  },
  {
   "cell_type": "code",
   "execution_count": 23,
   "metadata": {},
   "outputs": [
    {
     "data": {
      "text/plain": [
       "'uniqlo free shipping oct'"
      ]
     },
     "execution_count": 23,
     "metadata": {},
     "output_type": "execute_result"
    }
   ],
   "source": [
    "df['text'].loc[13895]"
   ]
  },
  {
   "cell_type": "markdown",
   "metadata": {},
   "source": [
    "This post was correctly classified with great confidence to be in `r/frugalmalefashion`. The word `free` made this post 39.51 times more likely to be classified in `r/frugalmalefashion`. The word `shipping` made this post 11.63 times more likely to be classified in `r/frugalmalefashion`."
   ]
  },
  {
   "cell_type": "markdown",
   "metadata": {},
   "source": [
    "Here are the posts in which the model predicted incorrectly with great confidence. "
   ]
  },
  {
   "cell_type": "code",
   "execution_count": 24,
   "metadata": {},
   "outputs": [
    {
     "data": {
      "text/html": [
       "<div>\n",
       "<style scoped>\n",
       "    .dataframe tbody tr th:only-of-type {\n",
       "        vertical-align: middle;\n",
       "    }\n",
       "\n",
       "    .dataframe tbody tr th {\n",
       "        vertical-align: top;\n",
       "    }\n",
       "\n",
       "    .dataframe thead th {\n",
       "        text-align: right;\n",
       "    }\n",
       "</style>\n",
       "<table border=\"1\" class=\"dataframe\">\n",
       "  <thead>\n",
       "    <tr style=\"text-align: right;\">\n",
       "      <th></th>\n",
       "      <th>clean_text</th>\n",
       "    </tr>\n",
       "  </thead>\n",
       "  <tbody>\n",
       "    <tr>\n",
       "      <th>73596</th>\n",
       "      <td>pharrell x adidas nmd hu inspiration pack plac...</td>\n",
       "    </tr>\n",
       "    <tr>\n",
       "      <th>56187</th>\n",
       "      <td>footlocker code going off off</td>\n",
       "    </tr>\n",
       "    <tr>\n",
       "      <th>47003</th>\n",
       "      <td>legit check beluga s seller offered thing off ...</td>\n",
       "    </tr>\n",
       "    <tr>\n",
       "      <th>39305</th>\n",
       "      <td>normal goat second sale goat sale went fine is...</td>\n",
       "    </tr>\n",
       "    <tr>\n",
       "      <th>56825</th>\n",
       "      <td>favorite multifaceted kick awesome gym run fly...</td>\n",
       "    </tr>\n",
       "  </tbody>\n",
       "</table>\n",
       "</div>"
      ],
      "text/plain": [
       "                                              clean_text\n",
       "73596  pharrell x adidas nmd hu inspiration pack plac...\n",
       "56187                      footlocker code going off off\n",
       "47003  legit check beluga s seller offered thing off ...\n",
       "39305  normal goat second sale goat sale went fine is...\n",
       "56825  favorite multifaceted kick awesome gym run fly..."
      ]
     },
     "execution_count": 24,
     "metadata": {},
     "output_type": "execute_result"
    }
   ],
   "source": [
    "X_test[(gs_logr.predict_proba(X_test_tfidf)[:, 1] >= .9) & (y_test != 1)].head()"
   ]
  },
  {
   "cell_type": "code",
   "execution_count": 25,
   "metadata": {},
   "outputs": [
    {
     "data": {
      "text/plain": [
       "\"what are your favorite multifaceted kicks ones that look awesome but you use in the gym to run etc mine are the flyknit run frees they barely get beat up at all are super light comfy and very functional i've been a run free fan since they launched\""
      ]
     },
     "execution_count": 25,
     "metadata": {},
     "output_type": "execute_result"
    }
   ],
   "source": [
    "df['text'].loc[56825]"
   ]
  },
  {
   "cell_type": "markdown",
   "metadata": {},
   "source": [
    "This post was incorrectly classified with great confidence to be in `r/frugalmalefashion`. The word `free` made this post 39.51 times more likely to be classified in `r/frugalmalefashion`."
   ]
  },
  {
   "cell_type": "markdown",
   "metadata": {},
   "source": [
    "Here are the posts in which the model predicted correctly with low confidence"
   ]
  },
  {
   "cell_type": "code",
   "execution_count": 26,
   "metadata": {},
   "outputs": [
    {
     "data": {
      "text/html": [
       "<div>\n",
       "<style scoped>\n",
       "    .dataframe tbody tr th:only-of-type {\n",
       "        vertical-align: middle;\n",
       "    }\n",
       "\n",
       "    .dataframe tbody tr th {\n",
       "        vertical-align: top;\n",
       "    }\n",
       "\n",
       "    .dataframe thead th {\n",
       "        text-align: right;\n",
       "    }\n",
       "</style>\n",
       "<table border=\"1\" class=\"dataframe\">\n",
       "  <thead>\n",
       "    <tr style=\"text-align: right;\">\n",
       "      <th></th>\n",
       "      <th>clean_text</th>\n",
       "    </tr>\n",
       "  </thead>\n",
       "  <tbody>\n",
       "    <tr>\n",
       "      <th>10311</th>\n",
       "      <td>breathable running shoe size</td>\n",
       "    </tr>\n",
       "    <tr>\n",
       "      <th>32766</th>\n",
       "      <td>canada sorel boot sportchekca sorel pac nylon ...</td>\n",
       "    </tr>\n",
       "    <tr>\n",
       "      <th>17224</th>\n",
       "      <td>adidas canada off coupon ramkzbivydgkyspdoesn ...</td>\n",
       "    </tr>\n",
       "    <tr>\n",
       "      <th>9444</th>\n",
       "      <td>allen edmonds normal price buy shoe tree store...</td>\n",
       "    </tr>\n",
       "    <tr>\n",
       "      <th>25918</th>\n",
       "      <td>rei tretorn skymra mid gtx orange sneaker line...</td>\n",
       "    </tr>\n",
       "  </tbody>\n",
       "</table>\n",
       "</div>"
      ],
      "text/plain": [
       "                                              clean_text\n",
       "10311                       breathable running shoe size\n",
       "32766  canada sorel boot sportchekca sorel pac nylon ...\n",
       "17224  adidas canada off coupon ramkzbivydgkyspdoesn ...\n",
       "9444   allen edmonds normal price buy shoe tree store...\n",
       "25918  rei tretorn skymra mid gtx orange sneaker line..."
      ]
     },
     "execution_count": 26,
     "metadata": {},
     "output_type": "execute_result"
    }
   ],
   "source": [
    "X_test[(gs_logr.predict_proba(X_test_tfidf)[:, 1] > .4) & \n",
    "       (gs_logr.predict_proba(X_test_tfidf)[:, 1] < .6) & \n",
    "       (y_test == 1)].head()"
   ]
  },
  {
   "cell_type": "code",
   "execution_count": 27,
   "metadata": {},
   "outputs": [
    {
     "data": {
      "text/plain": [
       "\"canada if you're looking for sorel boots sportchekca has the sorel pac nylon winter boots mens for it is eligible for bogo and they are having a no tax event combine it with the coupon you get off for signing up for their email list and you can get two pairs for hopefully you have a friend that wants one too\""
      ]
     },
     "execution_count": 27,
     "metadata": {},
     "output_type": "execute_result"
    }
   ],
   "source": [
    "df['text'].loc[32766]"
   ]
  },
  {
   "cell_type": "markdown",
   "metadata": {},
   "source": [
    "This post was correctly classified with low confidence to be in `r/frugalmalefashion`. The word `off` made this post 14.14 times more likely to be classified in `r/frugalmalefashion`. The word `pair` made this post .3973 times less likely to be classified in `r/frugalmalefashion`."
   ]
  },
  {
   "cell_type": "markdown",
   "metadata": {},
   "source": [
    "Here are the posts in which the model predicted incorrectly with low confidence."
   ]
  },
  {
   "cell_type": "code",
   "execution_count": 28,
   "metadata": {},
   "outputs": [
    {
     "data": {
      "text/html": [
       "<div>\n",
       "<style scoped>\n",
       "    .dataframe tbody tr th:only-of-type {\n",
       "        vertical-align: middle;\n",
       "    }\n",
       "\n",
       "    .dataframe tbody tr th {\n",
       "        vertical-align: top;\n",
       "    }\n",
       "\n",
       "    .dataframe thead th {\n",
       "        text-align: right;\n",
       "    }\n",
       "</style>\n",
       "<table border=\"1\" class=\"dataframe\">\n",
       "  <thead>\n",
       "    <tr style=\"text-align: right;\">\n",
       "      <th></th>\n",
       "      <th>clean_text</th>\n",
       "    </tr>\n",
       "  </thead>\n",
       "  <tbody>\n",
       "    <tr>\n",
       "      <th>78184</th>\n",
       "      <td>cheap aj colorways hi alli m currently purchas...</td>\n",
       "    </tr>\n",
       "    <tr>\n",
       "      <th>62744</th>\n",
       "      <td>size air max wear jordan s jordan s size air m...</td>\n",
       "    </tr>\n",
       "    <tr>\n",
       "      <th>78179</th>\n",
       "      <td>european alternative goat stockx m nice altern...</td>\n",
       "    </tr>\n",
       "    <tr>\n",
       "      <th>41214</th>\n",
       "      <td>air jordan insole replacement recently copped ...</td>\n",
       "    </tr>\n",
       "    <tr>\n",
       "      <th>49859</th>\n",
       "      <td>nike epic react flyknit v free rn flyknit comf...</td>\n",
       "    </tr>\n",
       "  </tbody>\n",
       "</table>\n",
       "</div>"
      ],
      "text/plain": [
       "                                              clean_text\n",
       "78184  cheap aj colorways hi alli m currently purchas...\n",
       "62744  size air max wear jordan s jordan s size air m...\n",
       "78179  european alternative goat stockx m nice altern...\n",
       "41214  air jordan insole replacement recently copped ...\n",
       "49859  nike epic react flyknit v free rn flyknit comf..."
      ]
     },
     "execution_count": 28,
     "metadata": {},
     "output_type": "execute_result"
    }
   ],
   "source": [
    "X_test[(gs_logr.predict_proba(X_test_tfidf)[:, 1] > .4) & \n",
    "       (gs_logr.predict_proba(X_test_tfidf)[:, 1] < .6) & \n",
    "       (y_test != 1)].head()"
   ]
  },
  {
   "cell_type": "code",
   "execution_count": 29,
   "metadata": {},
   "outputs": [
    {
     "data": {
      "text/plain": [
       "\"cheap aj colorways hi alli'm currently looking to purchase a pair of ajs but the colorways i'm interested in breds chicagos etc are all way out of my price range are there any good colorways that aren't that flashy that are cheap as wellthanks\""
      ]
     },
     "execution_count": 29,
     "metadata": {},
     "output_type": "execute_result"
    }
   ],
   "source": [
    "df['text'].loc[78184]"
   ]
  },
  {
   "cell_type": "markdown",
   "metadata": {},
   "source": [
    "This post was incorrectly classified with low confidence to be in `r/frugalmalefashion`. The word `pair` made this post 14.14 times less likely to be classified in `r/frugalmalefashion`. The word `price` made this post 5.74 times more likely to be classified in `r/frugalmalefashion`."
   ]
  },
  {
   "cell_type": "markdown",
   "metadata": {},
   "source": [
    "### **Conclusion and Recommendations**"
   ]
  },
  {
   "cell_type": "markdown",
   "metadata": {},
   "source": [
    "The model we will put into production will the Logistic Regression model with an accuracy score of 78.77% on unseen data and with human interpretable results for downstream business applications. The model is able to provide us with the terms that best classify a post as relevant in the community of `r/frugalmalefashion` and ultimate maintain the clean environment to retain users and increase advertisement revenue.\n",
    "\n",
    "The terms used to best classify relevant posts are: `sale`, `code`, `item`, `free`, `off`, `shipping`. These terms relate to items as being on sale such as in stores or for brands.\n",
    "\n",
    "The terms used to be classify irrelevant posts are: `nike`, `sneaker`, `pair`. These terms are related to hype sneakerwear culture and relate to users posting about present or future acquisitions of such sneakers.\n",
    "\n",
    "The next step of this project would be to re-evaluate the cleaning and preprocessing of the data to account for word frequency overlap between the two subreddit as well as including sentiment analysis on how words are being used in conjunction with each other in the text. After that, we could continuously collect new data to search for new signal to contribute to our model."
   ]
  },
  {
   "cell_type": "code",
   "execution_count": null,
   "metadata": {},
   "outputs": [],
   "source": []
  }
 ],
 "metadata": {
  "kernelspec": {
   "display_name": "Python 3",
   "language": "python",
   "name": "python3"
  },
  "language_info": {
   "codemirror_mode": {
    "name": "ipython",
    "version": 3
   },
   "file_extension": ".py",
   "mimetype": "text/x-python",
   "name": "python",
   "nbconvert_exporter": "python",
   "pygments_lexer": "ipython3",
   "version": "3.6.8"
  }
 },
 "nbformat": 4,
 "nbformat_minor": 2
}
