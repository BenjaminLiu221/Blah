{
 "cells": [
  {
   "cell_type": "markdown",
   "metadata": {},
   "source": [
    "## **EDA and Cleaning**"
   ]
  },
  {
   "cell_type": "markdown",
   "metadata": {},
   "source": [
    "### **Import Library**"
   ]
  },
  {
   "cell_type": "code",
   "execution_count": 1,
   "metadata": {},
   "outputs": [],
   "source": [
    "import pandas as pd\n",
    "import numpy as np\n",
    "import regex as re\n",
    "import time\n",
    "import matplotlib.pyplot as plt\n",
    "from datetime import datetime, timedelta\n",
    "from nltk.tokenize import RegexpTokenizer\n",
    "from nltk.stem import WordNetLemmatizer\n",
    "from sklearn.feature_extraction.text import CountVectorizer\n",
    "from sklearn.feature_extraction import stop_words\n",
    "\n",
    "np.random.seed(42)\n",
    "%matplotlib inline"
   ]
  },
  {
   "cell_type": "markdown",
   "metadata": {},
   "source": [
    "### **Male Fashion Advice Data Import**"
   ]
  },
  {
   "cell_type": "markdown",
   "metadata": {},
   "source": [
    "#### **Import Data**"
   ]
  },
  {
   "cell_type": "code",
   "execution_count": 2,
   "metadata": {},
   "outputs": [],
   "source": [
    "df = pd.read_csv('../data/df.csv')"
   ]
  },
  {
   "cell_type": "code",
   "execution_count": 3,
   "metadata": {},
   "outputs": [],
   "source": [
    "df.drop(columns='Unnamed: 0', inplace=True)"
   ]
  },
  {
   "cell_type": "code",
   "execution_count": 4,
   "metadata": {},
   "outputs": [
    {
     "data": {
      "text/html": [
       "<div>\n",
       "<style scoped>\n",
       "    .dataframe tbody tr th:only-of-type {\n",
       "        vertical-align: middle;\n",
       "    }\n",
       "\n",
       "    .dataframe tbody tr th {\n",
       "        vertical-align: top;\n",
       "    }\n",
       "\n",
       "    .dataframe thead th {\n",
       "        text-align: right;\n",
       "    }\n",
       "</style>\n",
       "<table border=\"1\" class=\"dataframe\">\n",
       "  <thead>\n",
       "    <tr style=\"text-align: right;\">\n",
       "      <th></th>\n",
       "      <th>subreddit</th>\n",
       "      <th>year</th>\n",
       "      <th>text</th>\n",
       "    </tr>\n",
       "  </thead>\n",
       "  <tbody>\n",
       "    <tr>\n",
       "      <th>0</th>\n",
       "      <td>1</td>\n",
       "      <td>2019</td>\n",
       "      <td>how to find the best offers and deals on lapda...</td>\n",
       "    </tr>\n",
       "    <tr>\n",
       "      <th>1</th>\n",
       "      <td>1</td>\n",
       "      <td>2019</td>\n",
       "      <td>columbia fleece various colors and sizes shipp...</td>\n",
       "    </tr>\n",
       "    <tr>\n",
       "      <th>2</th>\n",
       "      <td>1</td>\n",
       "      <td>2019</td>\n",
       "      <td>pacsun vans old skool sizes free shipping</td>\n",
       "    </tr>\n",
       "    <tr>\n",
       "      <th>3</th>\n",
       "      <td>1</td>\n",
       "      <td>2019</td>\n",
       "      <td>massive toadampco sale some items off noooo id...</td>\n",
       "    </tr>\n",
       "    <tr>\n",
       "      <th>4</th>\n",
       "      <td>1</td>\n",
       "      <td>2018</td>\n",
       "      <td>chup socks for with code more</td>\n",
       "    </tr>\n",
       "  </tbody>\n",
       "</table>\n",
       "</div>"
      ],
      "text/plain": [
       "   subreddit  year                                               text\n",
       "0          1  2019  how to find the best offers and deals on lapda...\n",
       "1          1  2019  columbia fleece various colors and sizes shipp...\n",
       "2          1  2019          pacsun vans old skool sizes free shipping\n",
       "3          1  2019  massive toadampco sale some items off noooo id...\n",
       "4          1  2018                      chup socks for with code more"
      ]
     },
     "execution_count": 4,
     "metadata": {},
     "output_type": "execute_result"
    }
   ],
   "source": [
    "df.head()"
   ]
  },
  {
   "cell_type": "code",
   "execution_count": 5,
   "metadata": {},
   "outputs": [
    {
     "data": {
      "text/plain": [
       "subreddit     0\n",
       "year          0\n",
       "text         50\n",
       "dtype: int64"
      ]
     },
     "execution_count": 5,
     "metadata": {},
     "output_type": "execute_result"
    }
   ],
   "source": [
    "df.isnull().sum()"
   ]
  },
  {
   "cell_type": "code",
   "execution_count": 6,
   "metadata": {},
   "outputs": [],
   "source": [
    "df.dropna(axis=0, inplace=True)"
   ]
  },
  {
   "cell_type": "markdown",
   "metadata": {},
   "source": [
    "### **Word Frequency**"
   ]
  },
  {
   "cell_type": "markdown",
   "metadata": {},
   "source": [
    "We want to see if there any obvious differences in word choice between the `Class 1` and `Class 0`."
   ]
  },
  {
   "cell_type": "markdown",
   "metadata": {},
   "source": [
    "#### Tokenize"
   ]
  },
  {
   "cell_type": "markdown",
   "metadata": {},
   "source": [
    "We will instantiate tokenizer and search through words using our `r'\\w+'` as our regular expression. Then we will tokenize our text column and create a new tokenized text column."
   ]
  },
  {
   "cell_type": "code",
   "execution_count": 7,
   "metadata": {},
   "outputs": [],
   "source": [
    "tokenizer = RegexpTokenizer(r'\\w+')"
   ]
  },
  {
   "cell_type": "code",
   "execution_count": 8,
   "metadata": {},
   "outputs": [],
   "source": [
    "df['tokenized'] = df['text'].map(lambda x: tokenizer.tokenize(x))"
   ]
  },
  {
   "cell_type": "code",
   "execution_count": 9,
   "metadata": {},
   "outputs": [],
   "source": [
    "df['tokenized'] = df['tokenized'].map(lambda x: 1 if len(x) == 0 else x)"
   ]
  },
  {
   "cell_type": "code",
   "execution_count": 10,
   "metadata": {},
   "outputs": [],
   "source": [
    "df = df[df['tokenized'] != 1]"
   ]
  },
  {
   "cell_type": "code",
   "execution_count": 11,
   "metadata": {},
   "outputs": [],
   "source": [
    "df.reset_index(drop=True, inplace=True)"
   ]
  },
  {
   "cell_type": "markdown",
   "metadata": {},
   "source": [
    "#### Lemmatize"
   ]
  },
  {
   "cell_type": "markdown",
   "metadata": {},
   "source": [
    "We will convert words to their base forms so as to keep the count consistency when performing countvectorizer()."
   ]
  },
  {
   "cell_type": "markdown",
   "metadata": {},
   "source": [
    "Instantiate lemmatizer"
   ]
  },
  {
   "cell_type": "code",
   "execution_count": 12,
   "metadata": {},
   "outputs": [],
   "source": [
    "lemmatizer = WordNetLemmatizer()"
   ]
  },
  {
   "cell_type": "markdown",
   "metadata": {},
   "source": [
    "We lemmatize the words in clean_text and concatenate them into one string."
   ]
  },
  {
   "cell_type": "code",
   "execution_count": 13,
   "metadata": {},
   "outputs": [],
   "source": [
    "df['lemmatized'] = df['tokenized'].map(lambda x: [lemmatizer.lemmatize(word) for word in x])"
   ]
  },
  {
   "cell_type": "code",
   "execution_count": 14,
   "metadata": {},
   "outputs": [],
   "source": [
    "df = df[df['lemmatized'] != '']"
   ]
  },
  {
   "cell_type": "code",
   "execution_count": 15,
   "metadata": {},
   "outputs": [
    {
     "data": {
      "text/html": [
       "<div>\n",
       "<style scoped>\n",
       "    .dataframe tbody tr th:only-of-type {\n",
       "        vertical-align: middle;\n",
       "    }\n",
       "\n",
       "    .dataframe tbody tr th {\n",
       "        vertical-align: top;\n",
       "    }\n",
       "\n",
       "    .dataframe thead th {\n",
       "        text-align: right;\n",
       "    }\n",
       "</style>\n",
       "<table border=\"1\" class=\"dataframe\">\n",
       "  <thead>\n",
       "    <tr style=\"text-align: right;\">\n",
       "      <th></th>\n",
       "      <th>subreddit</th>\n",
       "      <th>year</th>\n",
       "      <th>text</th>\n",
       "      <th>tokenized</th>\n",
       "      <th>lemmatized</th>\n",
       "    </tr>\n",
       "  </thead>\n",
       "  <tbody>\n",
       "    <tr>\n",
       "      <th>0</th>\n",
       "      <td>1</td>\n",
       "      <td>2019</td>\n",
       "      <td>how to find the best offers and deals on lapda...</td>\n",
       "      <td>[how, to, find, the, best, offers, and, deals,...</td>\n",
       "      <td>[how, to, find, the, best, offer, and, deal, o...</td>\n",
       "    </tr>\n",
       "    <tr>\n",
       "      <th>1</th>\n",
       "      <td>1</td>\n",
       "      <td>2019</td>\n",
       "      <td>columbia fleece various colors and sizes shipp...</td>\n",
       "      <td>[columbia, fleece, various, colors, and, sizes...</td>\n",
       "      <td>[columbia, fleece, various, color, and, size, ...</td>\n",
       "    </tr>\n",
       "    <tr>\n",
       "      <th>2</th>\n",
       "      <td>1</td>\n",
       "      <td>2019</td>\n",
       "      <td>pacsun vans old skool sizes free shipping</td>\n",
       "      <td>[pacsun, vans, old, skool, sizes, free, shipping]</td>\n",
       "      <td>[pacsun, van, old, skool, size, free, shipping]</td>\n",
       "    </tr>\n",
       "    <tr>\n",
       "      <th>3</th>\n",
       "      <td>1</td>\n",
       "      <td>2019</td>\n",
       "      <td>massive toadampco sale some items off noooo id...</td>\n",
       "      <td>[massive, toadampco, sale, some, items, off, n...</td>\n",
       "      <td>[massive, toadampco, sale, some, item, off, no...</td>\n",
       "    </tr>\n",
       "    <tr>\n",
       "      <th>4</th>\n",
       "      <td>1</td>\n",
       "      <td>2018</td>\n",
       "      <td>chup socks for with code more</td>\n",
       "      <td>[chup, socks, for, with, code, more]</td>\n",
       "      <td>[chup, sock, for, with, code, more]</td>\n",
       "    </tr>\n",
       "  </tbody>\n",
       "</table>\n",
       "</div>"
      ],
      "text/plain": [
       "   subreddit  year                                               text  \\\n",
       "0          1  2019  how to find the best offers and deals on lapda...   \n",
       "1          1  2019  columbia fleece various colors and sizes shipp...   \n",
       "2          1  2019          pacsun vans old skool sizes free shipping   \n",
       "3          1  2019  massive toadampco sale some items off noooo id...   \n",
       "4          1  2018                      chup socks for with code more   \n",
       "\n",
       "                                           tokenized  \\\n",
       "0  [how, to, find, the, best, offers, and, deals,...   \n",
       "1  [columbia, fleece, various, colors, and, sizes...   \n",
       "2  [pacsun, vans, old, skool, sizes, free, shipping]   \n",
       "3  [massive, toadampco, sale, some, items, off, n...   \n",
       "4               [chup, socks, for, with, code, more]   \n",
       "\n",
       "                                          lemmatized  \n",
       "0  [how, to, find, the, best, offer, and, deal, o...  \n",
       "1  [columbia, fleece, various, color, and, size, ...  \n",
       "2    [pacsun, van, old, skool, size, free, shipping]  \n",
       "3  [massive, toadampco, sale, some, item, off, no...  \n",
       "4                [chup, sock, for, with, code, more]  "
      ]
     },
     "execution_count": 15,
     "metadata": {},
     "output_type": "execute_result"
    }
   ],
   "source": [
    "df.head()"
   ]
  },
  {
   "cell_type": "markdown",
   "metadata": {},
   "source": [
    "#### Stopwords"
   ]
  },
  {
   "cell_type": "markdown",
   "metadata": {},
   "source": [
    "We will remove English stop words that will only contribute noise to our model rather than signal."
   ]
  },
  {
   "cell_type": "code",
   "execution_count": 16,
   "metadata": {},
   "outputs": [],
   "source": [
    "def remove_stop_words(df, col):\n",
    "    clean_text = []\n",
    "    set_stop_words = set([word for word in stop_words.ENGLISH_STOP_WORDS if word not in ['off']])\n",
    "    more_stop_words = set(['ll', 'wa', 've', 'ha', 'look', 'like', 'just', \n",
    "                           'know', 'really', 'don', 'use', 'make', 'looking', \n",
    "                           'good', 'black', 'men',\n",
    "                           ])\n",
    "    for i in range(len(df)):\n",
    "        stopless_words = [word for word in df[col][i] if not word in set_stop_words]\n",
    "        meaningful_words = [word for word in stopless_words if not word in more_stop_words]\n",
    "        clean_text.append(meaningful_words)\n",
    "    return clean_text"
   ]
  },
  {
   "cell_type": "markdown",
   "metadata": {},
   "source": [
    "The remaining words will be saved in the column clean_text."
   ]
  },
  {
   "cell_type": "code",
   "execution_count": 17,
   "metadata": {},
   "outputs": [],
   "source": [
    "df['clean_text'] = remove_stop_words(df, 'lemmatized')"
   ]
  },
  {
   "cell_type": "code",
   "execution_count": 18,
   "metadata": {},
   "outputs": [],
   "source": [
    "df['clean_text'] = df['clean_text'].map(lambda x: ' '.join([word for word in x]))"
   ]
  },
  {
   "cell_type": "code",
   "execution_count": 19,
   "metadata": {},
   "outputs": [],
   "source": [
    "df = df[df['clean_text'] != '']"
   ]
  },
  {
   "cell_type": "code",
   "execution_count": 20,
   "metadata": {},
   "outputs": [
    {
     "data": {
      "text/html": [
       "<div>\n",
       "<style scoped>\n",
       "    .dataframe tbody tr th:only-of-type {\n",
       "        vertical-align: middle;\n",
       "    }\n",
       "\n",
       "    .dataframe tbody tr th {\n",
       "        vertical-align: top;\n",
       "    }\n",
       "\n",
       "    .dataframe thead th {\n",
       "        text-align: right;\n",
       "    }\n",
       "</style>\n",
       "<table border=\"1\" class=\"dataframe\">\n",
       "  <thead>\n",
       "    <tr style=\"text-align: right;\">\n",
       "      <th></th>\n",
       "      <th>subreddit</th>\n",
       "      <th>year</th>\n",
       "      <th>text</th>\n",
       "      <th>tokenized</th>\n",
       "      <th>lemmatized</th>\n",
       "      <th>clean_text</th>\n",
       "    </tr>\n",
       "  </thead>\n",
       "  <tbody>\n",
       "    <tr>\n",
       "      <th>0</th>\n",
       "      <td>1</td>\n",
       "      <td>2019</td>\n",
       "      <td>how to find the best offers and deals on lapda...</td>\n",
       "      <td>[how, to, find, the, best, offers, and, deals,...</td>\n",
       "      <td>[how, to, find, the, best, offer, and, deal, o...</td>\n",
       "      <td>best offer deal lapdance shoe amp lingerie dea...</td>\n",
       "    </tr>\n",
       "    <tr>\n",
       "      <th>1</th>\n",
       "      <td>1</td>\n",
       "      <td>2019</td>\n",
       "      <td>columbia fleece various colors and sizes shipp...</td>\n",
       "      <td>[columbia, fleece, various, colors, and, sizes...</td>\n",
       "      <td>[columbia, fleece, various, color, and, size, ...</td>\n",
       "      <td>columbia fleece various color size shipping in...</td>\n",
       "    </tr>\n",
       "    <tr>\n",
       "      <th>2</th>\n",
       "      <td>1</td>\n",
       "      <td>2019</td>\n",
       "      <td>pacsun vans old skool sizes free shipping</td>\n",
       "      <td>[pacsun, vans, old, skool, sizes, free, shipping]</td>\n",
       "      <td>[pacsun, van, old, skool, size, free, shipping]</td>\n",
       "      <td>pacsun van old skool size free shipping</td>\n",
       "    </tr>\n",
       "    <tr>\n",
       "      <th>3</th>\n",
       "      <td>1</td>\n",
       "      <td>2019</td>\n",
       "      <td>massive toadampco sale some items off noooo id...</td>\n",
       "      <td>[massive, toadampco, sale, some, items, off, n...</td>\n",
       "      <td>[massive, toadampco, sale, some, item, off, no...</td>\n",
       "      <td>massive toadampco sale item off noooo idea err...</td>\n",
       "    </tr>\n",
       "    <tr>\n",
       "      <th>4</th>\n",
       "      <td>1</td>\n",
       "      <td>2018</td>\n",
       "      <td>chup socks for with code more</td>\n",
       "      <td>[chup, socks, for, with, code, more]</td>\n",
       "      <td>[chup, sock, for, with, code, more]</td>\n",
       "      <td>chup sock code</td>\n",
       "    </tr>\n",
       "  </tbody>\n",
       "</table>\n",
       "</div>"
      ],
      "text/plain": [
       "   subreddit  year                                               text  \\\n",
       "0          1  2019  how to find the best offers and deals on lapda...   \n",
       "1          1  2019  columbia fleece various colors and sizes shipp...   \n",
       "2          1  2019          pacsun vans old skool sizes free shipping   \n",
       "3          1  2019  massive toadampco sale some items off noooo id...   \n",
       "4          1  2018                      chup socks for with code more   \n",
       "\n",
       "                                           tokenized  \\\n",
       "0  [how, to, find, the, best, offers, and, deals,...   \n",
       "1  [columbia, fleece, various, colors, and, sizes...   \n",
       "2  [pacsun, vans, old, skool, sizes, free, shipping]   \n",
       "3  [massive, toadampco, sale, some, items, off, n...   \n",
       "4               [chup, socks, for, with, code, more]   \n",
       "\n",
       "                                          lemmatized  \\\n",
       "0  [how, to, find, the, best, offer, and, deal, o...   \n",
       "1  [columbia, fleece, various, color, and, size, ...   \n",
       "2    [pacsun, van, old, skool, size, free, shipping]   \n",
       "3  [massive, toadampco, sale, some, item, off, no...   \n",
       "4                [chup, sock, for, with, code, more]   \n",
       "\n",
       "                                          clean_text  \n",
       "0  best offer deal lapdance shoe amp lingerie dea...  \n",
       "1  columbia fleece various color size shipping in...  \n",
       "2            pacsun van old skool size free shipping  \n",
       "3  massive toadampco sale item off noooo idea err...  \n",
       "4                                     chup sock code  "
      ]
     },
     "execution_count": 20,
     "metadata": {},
     "output_type": "execute_result"
    }
   ],
   "source": [
    "df.head()"
   ]
  },
  {
   "cell_type": "markdown",
   "metadata": {},
   "source": [
    "#### CountVectorize"
   ]
  },
  {
   "cell_type": "markdown",
   "metadata": {},
   "source": [
    "Using the lemmatized text, we will count the frequency of the terms from our posts."
   ]
  },
  {
   "cell_type": "markdown",
   "metadata": {},
   "source": [
    "Instantiate CountVectorizer():\n",
    "- min_df=.03: drop terms with a document frequency of less than 3%. Terms that rarely occur will contribute noise.\n",
    "- max_df=.95: drop terms with a document frequency of greater than 95%. Terms that occur in almost all documents will occur in both subreddits and will not contribute signal."
   ]
  },
  {
   "cell_type": "code",
   "execution_count": 21,
   "metadata": {},
   "outputs": [],
   "source": [
    "vect = CountVectorizer(min_df=.03, max_df=.95)"
   ]
  },
  {
   "cell_type": "markdown",
   "metadata": {},
   "source": [
    "We create a dataframe of the vectorized frequency of the terms."
   ]
  },
  {
   "cell_type": "code",
   "execution_count": 22,
   "metadata": {},
   "outputs": [],
   "source": [
    "X = vect.fit_transform(df['clean_text'])\n",
    "text = pd.DataFrame(X.toarray(), columns=vect.get_feature_names())"
   ]
  },
  {
   "cell_type": "markdown",
   "metadata": {},
   "source": [
    "We will align each document to the subreddit it belongs to by setting the askmen column from our combined_df to the index of our text dataframe."
   ]
  },
  {
   "cell_type": "code",
   "execution_count": 23,
   "metadata": {},
   "outputs": [],
   "source": [
    "text.index = df['subreddit']"
   ]
  },
  {
   "cell_type": "code",
   "execution_count": 24,
   "metadata": {},
   "outputs": [
    {
     "data": {
      "text/html": [
       "<div>\n",
       "<style scoped>\n",
       "    .dataframe tbody tr th:only-of-type {\n",
       "        vertical-align: middle;\n",
       "    }\n",
       "\n",
       "    .dataframe tbody tr th {\n",
       "        vertical-align: top;\n",
       "    }\n",
       "\n",
       "    .dataframe thead th {\n",
       "        text-align: right;\n",
       "    }\n",
       "</style>\n",
       "<table border=\"1\" class=\"dataframe\">\n",
       "  <thead>\n",
       "    <tr style=\"text-align: right;\">\n",
       "      <th></th>\n",
       "      <th>code</th>\n",
       "      <th>day</th>\n",
       "      <th>free</th>\n",
       "      <th>got</th>\n",
       "      <th>item</th>\n",
       "      <th>new</th>\n",
       "      <th>nike</th>\n",
       "      <th>off</th>\n",
       "      <th>pair</th>\n",
       "      <th>price</th>\n",
       "      <th>sale</th>\n",
       "      <th>shipping</th>\n",
       "      <th>shoe</th>\n",
       "      <th>size</th>\n",
       "      <th>sneaker</th>\n",
       "      <th>today</th>\n",
       "    </tr>\n",
       "    <tr>\n",
       "      <th>subreddit</th>\n",
       "      <th></th>\n",
       "      <th></th>\n",
       "      <th></th>\n",
       "      <th></th>\n",
       "      <th></th>\n",
       "      <th></th>\n",
       "      <th></th>\n",
       "      <th></th>\n",
       "      <th></th>\n",
       "      <th></th>\n",
       "      <th></th>\n",
       "      <th></th>\n",
       "      <th></th>\n",
       "      <th></th>\n",
       "      <th></th>\n",
       "      <th></th>\n",
       "    </tr>\n",
       "  </thead>\n",
       "  <tbody>\n",
       "    <tr>\n",
       "      <th>1</th>\n",
       "      <td>0</td>\n",
       "      <td>0</td>\n",
       "      <td>0</td>\n",
       "      <td>0</td>\n",
       "      <td>0</td>\n",
       "      <td>0</td>\n",
       "      <td>0</td>\n",
       "      <td>0</td>\n",
       "      <td>0</td>\n",
       "      <td>0</td>\n",
       "      <td>1</td>\n",
       "      <td>0</td>\n",
       "      <td>1</td>\n",
       "      <td>0</td>\n",
       "      <td>0</td>\n",
       "      <td>0</td>\n",
       "    </tr>\n",
       "    <tr>\n",
       "      <th>1</th>\n",
       "      <td>0</td>\n",
       "      <td>0</td>\n",
       "      <td>0</td>\n",
       "      <td>0</td>\n",
       "      <td>0</td>\n",
       "      <td>0</td>\n",
       "      <td>0</td>\n",
       "      <td>0</td>\n",
       "      <td>0</td>\n",
       "      <td>0</td>\n",
       "      <td>0</td>\n",
       "      <td>1</td>\n",
       "      <td>0</td>\n",
       "      <td>1</td>\n",
       "      <td>0</td>\n",
       "      <td>0</td>\n",
       "    </tr>\n",
       "    <tr>\n",
       "      <th>1</th>\n",
       "      <td>0</td>\n",
       "      <td>0</td>\n",
       "      <td>1</td>\n",
       "      <td>0</td>\n",
       "      <td>0</td>\n",
       "      <td>0</td>\n",
       "      <td>0</td>\n",
       "      <td>0</td>\n",
       "      <td>0</td>\n",
       "      <td>0</td>\n",
       "      <td>0</td>\n",
       "      <td>1</td>\n",
       "      <td>0</td>\n",
       "      <td>1</td>\n",
       "      <td>0</td>\n",
       "      <td>0</td>\n",
       "    </tr>\n",
       "    <tr>\n",
       "      <th>1</th>\n",
       "      <td>0</td>\n",
       "      <td>0</td>\n",
       "      <td>0</td>\n",
       "      <td>0</td>\n",
       "      <td>1</td>\n",
       "      <td>0</td>\n",
       "      <td>0</td>\n",
       "      <td>1</td>\n",
       "      <td>0</td>\n",
       "      <td>0</td>\n",
       "      <td>1</td>\n",
       "      <td>0</td>\n",
       "      <td>0</td>\n",
       "      <td>0</td>\n",
       "      <td>0</td>\n",
       "      <td>0</td>\n",
       "    </tr>\n",
       "    <tr>\n",
       "      <th>1</th>\n",
       "      <td>1</td>\n",
       "      <td>0</td>\n",
       "      <td>0</td>\n",
       "      <td>0</td>\n",
       "      <td>0</td>\n",
       "      <td>0</td>\n",
       "      <td>0</td>\n",
       "      <td>0</td>\n",
       "      <td>0</td>\n",
       "      <td>0</td>\n",
       "      <td>0</td>\n",
       "      <td>0</td>\n",
       "      <td>0</td>\n",
       "      <td>0</td>\n",
       "      <td>0</td>\n",
       "      <td>0</td>\n",
       "    </tr>\n",
       "  </tbody>\n",
       "</table>\n",
       "</div>"
      ],
      "text/plain": [
       "           code  day  free  got  item  new  nike  off  pair  price  sale  \\\n",
       "subreddit                                                                  \n",
       "1             0    0     0    0     0    0     0    0     0      0     1   \n",
       "1             0    0     0    0     0    0     0    0     0      0     0   \n",
       "1             0    0     1    0     0    0     0    0     0      0     0   \n",
       "1             0    0     0    0     1    0     0    1     0      0     1   \n",
       "1             1    0     0    0     0    0     0    0     0      0     0   \n",
       "\n",
       "           shipping  shoe  size  sneaker  today  \n",
       "subreddit                                        \n",
       "1                 0     1     0        0      0  \n",
       "1                 1     0     1        0      0  \n",
       "1                 1     0     1        0      0  \n",
       "1                 0     0     0        0      0  \n",
       "1                 0     0     0        0      0  "
      ]
     },
     "execution_count": 24,
     "metadata": {},
     "output_type": "execute_result"
    }
   ],
   "source": [
    "text.head()"
   ]
  },
  {
   "cell_type": "markdown",
   "metadata": {},
   "source": [
    "### **Visualization**"
   ]
  },
  {
   "cell_type": "markdown",
   "metadata": {},
   "source": [
    "#### **Hot Male Fashion Advice Word Count**"
   ]
  },
  {
   "cell_type": "code",
   "execution_count": 25,
   "metadata": {},
   "outputs": [
    {
     "data": {
      "image/png": "[encoded data removed]",
      "text/plain": [
       "<Figure size 1440x720 with 1 Axes>"
      ]
     },
     "metadata": {
      "needs_background": "light"
     },
     "output_type": "display_data"
    }
   ],
   "source": [
    "plt.figure(figsize=(20, 10))\n",
    "plt.barh(y = text[text.index == 1].sum().sort_values(ascending=False).head(20).index,\n",
    "         width = text[text.index == 1].sum().sort_values(ascending=False).head(20))\n",
    "plt.title('Top Word Count in Frugal Male Fashion', fontsize=30)\n",
    "plt.xlabel('Count', fontsize=15)\n",
    "plt.xticks(fontsize=15)\n",
    "plt.yticks(fontsize=15);"
   ]
  },
  {
   "cell_type": "markdown",
   "metadata": {},
   "source": [
    "Most of the top 20 words are related to item(s) being on sale: `off`, `sale`, `code`, `free`, `item`. Terms such as: `shipping`, `size`, `price`  indicates the saving money on those attributes. `store` indicates location of particular sale. `day` indicates time of event of sales."
   ]
  },
  {
   "cell_type": "markdown",
   "metadata": {},
   "source": [
    "#### **Old Male Fashion Advice Word Count**"
   ]
  },
  {
   "cell_type": "code",
   "execution_count": 26,
   "metadata": {},
   "outputs": [
    {
     "data": {
      "image/png": "[encoded data removed]",
      "text/plain": [
       "<Figure size 1440x720 with 1 Axes>"
      ]
     },
     "metadata": {
      "needs_background": "light"
     },
     "output_type": "display_data"
    }
   ],
   "source": [
    "plt.figure(figsize=(20, 10))\n",
    "plt.barh(y = text[text.index == 0].sum().sort_values(ascending=False).head(20).index,\n",
    "         width = text[text.index == 0].sum().sort_values(ascending=False).head(20))\n",
    "plt.title('Top Word Count in Sneakers', fontsize=30)\n",
    "plt.xlabel('Count', fontsize=15)\n",
    "plt.xticks(fontsize=15)\n",
    "plt.yticks(fontsize=15);"
   ]
  },
  {
   "cell_type": "markdown",
   "metadata": {},
   "source": [
    "Most of the top 20 words are related to shoes: `shoe`, `pair`, `sneaker`, `size`. `nike` indicate the specific brand(s) of sneakers. `off` indicates user wear item(s) on their non-working schedule. Other terms such as `got`, `new`, `today`, `day` indicate recent acquistion of item(s) and user is displaying item(s)."
   ]
  },
  {
   "cell_type": "markdown",
   "metadata": {},
   "source": [
    "### **Analysis**"
   ]
  },
  {
   "cell_type": "markdown",
   "metadata": {},
   "source": [
    "There most frequent words found in both subreddits include:\n",
    "- shoe\n",
    "- size\n",
    "- off\n",
    "- new\n",
    "- price\n",
    "- day\n",
    "\n",
    "These words indicate that users in both subreddits share information about shoes."
   ]
  },
  {
   "cell_type": "markdown",
   "metadata": {},
   "source": [
    "- `sale`, `code`, `free`, `shipping` occur the most frequently in `r/frugalmalefashion` but rarely in `r/sneakers` as there would be more sales related terms in a subreddit dedicated to posting sales.\n",
    "- `shoe`, `pair`, `sneaker`, `nike` occur the most frequently in `r/sneakers` but not as frequently in `r/frugalmalefashion` as there would be more similar acquisition related terms in a subreddit dedicated to displaying sneakers."
   ]
  },
  {
   "cell_type": "markdown",
   "metadata": {},
   "source": [
    "### **Save out as csv**"
   ]
  },
  {
   "cell_type": "code",
   "execution_count": 27,
   "metadata": {},
   "outputs": [],
   "source": [
    "df.to_csv('../data/clean_df.csv')"
   ]
  },
  {
   "cell_type": "code",
   "execution_count": 28,
   "metadata": {},
   "outputs": [],
   "source": [
    "text.to_csv('../data/vect_df.csv')"
   ]
  }
 ],
 "metadata": {
  "kernelspec": {
   "display_name": "Python 3",
   "language": "python",
   "name": "python3"
  },
  "language_info": {
   "codemirror_mode": {
    "name": "ipython",
    "version": 3
   },
   "file_extension": ".py",
   "mimetype": "text/x-python",
   "name": "python",
   "nbconvert_exporter": "python",
   "pygments_lexer": "ipython3",
   "version": "3.6.8"
  }
 },
 "nbformat": 4,
 "nbformat_minor": 2
}
